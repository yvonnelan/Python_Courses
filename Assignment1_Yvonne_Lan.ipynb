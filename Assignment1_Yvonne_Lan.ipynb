{
 "cells": [
  {
   "cell_type": "markdown",
   "id": "b6203859-8906-4bb7-ae7c-60386a5e431d",
   "metadata": {},
   "source": [
    "# Assignment 1"
   ]
  },
  {
   "cell_type": "markdown",
   "id": "67139984-ebed-4c20-b098-2bf9f242ed00",
   "metadata": {},
   "source": [
    "# Yvonne Lan"
   ]
  },
  {
   "cell_type": "code",
   "execution_count": 25,
   "id": "a013086d-67b5-4375-a335-b65832c53476",
   "metadata": {},
   "outputs": [
    {
     "name": "stdin",
     "output_type": "stream",
     "text": [
      "What is the first floating point numeric value?\n",
      " 1.10\n"
     ]
    }
   ],
   "source": [
    "float_value_1 = float(input('What is the first floating point numeric value?\\n'))"
   ]
  },
  {
   "cell_type": "code",
   "execution_count": 26,
   "id": "c04f2e2d-c25d-4974-8922-5aa408fd31d2",
   "metadata": {},
   "outputs": [
    {
     "name": "stdin",
     "output_type": "stream",
     "text": [
      "What is the second floating point numeric value?\n",
      " 1.20\n"
     ]
    }
   ],
   "source": [
    "float_value_2 = float(input('What is the second floating point numeric value?\\n'))"
   ]
  },
  {
   "cell_type": "code",
   "execution_count": 27,
   "id": "69c721d9-5c36-49ed-82ec-ebbb4079d8a1",
   "metadata": {},
   "outputs": [
    {
     "name": "stdin",
     "output_type": "stream",
     "text": [
      "What is the third floating point numeric value?\n",
      " 1.30\n"
     ]
    }
   ],
   "source": [
    "float_value_3 = float(input('What is the third floating point numeric value?\\n'))"
   ]
  },
  {
   "cell_type": "code",
   "execution_count": 28,
   "id": "09a4b9cd-e37b-4dd5-ad52-6d3f4aa94589",
   "metadata": {},
   "outputs": [
    {
     "name": "stdin",
     "output_type": "stream",
     "text": [
      "What is the fourth floating point numeric value?\n",
      " 1.40\n"
     ]
    }
   ],
   "source": [
    "float_value_4 = float(input('What is the fourth floating point numeric value?\\n'))"
   ]
  },
  {
   "cell_type": "code",
   "execution_count": 29,
   "id": "8f09fdf2-daf0-41ba-8e36-61f883341459",
   "metadata": {},
   "outputs": [
    {
     "name": "stdin",
     "output_type": "stream",
     "text": [
      "What is the fifth floating point numeric value?\n",
      " 1.50\n"
     ]
    }
   ],
   "source": [
    "float_value_5 = float(input('What is the fifth floating point numeric value?\\n'))"
   ]
  },
  {
   "cell_type": "code",
   "execution_count": 33,
   "id": "02171e59-bf5e-4d61-b7a4-5d203a0781de",
   "metadata": {},
   "outputs": [
    {
     "name": "stdout",
     "output_type": "stream",
     "text": [
      "The mean of the 5 floating numeric value is:\n",
      " 1.3\n"
     ]
    }
   ],
   "source": [
    "print('The mean of the 5 floating numeric value is:\\n',(float_value_1 + float_value_2 + float_value_3 + float_value_4 + float_value_5) / 5)"
   ]
  },
  {
   "cell_type": "code",
   "execution_count": null,
   "id": "95687cad-10cd-45e7-8b56-31715729cc4b",
   "metadata": {},
   "outputs": [],
   "source": []
  }
 ],
 "metadata": {
  "kernelspec": {
   "display_name": "Python 3 (ipykernel)",
   "language": "python",
   "name": "python3"
  },
  "language_info": {
   "codemirror_mode": {
    "name": "ipython",
    "version": 3
   },
   "file_extension": ".py",
   "mimetype": "text/x-python",
   "name": "python",
   "nbconvert_exporter": "python",
   "pygments_lexer": "ipython3",
   "version": "3.9.12"
  }
 },
 "nbformat": 4,
 "nbformat_minor": 5
}
